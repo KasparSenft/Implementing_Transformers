{
 "cells": [
  {
   "cell_type": "code",
   "execution_count": 5,
   "metadata": {},
   "outputs": [],
   "source": [
    "import torch\n",
    "from modelling.attention import AttentionHead\n",
    "\n",
    "x = torch.rand(2,10,28)\n",
    "attn_mask = torch.ones(2,10)\n",
    "\n",
    "l = [AttentionHead(d_model=28) for _ in range(11)]\n",
    "\n",
    "outs = []\n",
    "\n",
    "for head in l:\n",
    "    outs.append(head(x,x,x,attn_mask))"
   ]
  },
  {
   "cell_type": "code",
   "execution_count": 8,
   "metadata": {},
   "outputs": [
    {
     "data": {
      "text/plain": [
       "torch.Size([2, 10, 308])"
      ]
     },
     "execution_count": 8,
     "metadata": {},
     "output_type": "execute_result"
    }
   ],
   "source": [
    "b =torch.cat(outs, dim = -1)\n",
    "\n",
    "b.shape"
   ]
  }
 ],
 "metadata": {
  "kernelspec": {
   "display_name": "imptransf",
   "language": "python",
   "name": "python3"
  },
  "language_info": {
   "codemirror_mode": {
    "name": "ipython",
    "version": 3
   },
   "file_extension": ".py",
   "mimetype": "text/x-python",
   "name": "python",
   "nbconvert_exporter": "python",
   "pygments_lexer": "ipython3",
   "version": "3.8.18"
  }
 },
 "nbformat": 4,
 "nbformat_minor": 2
}
