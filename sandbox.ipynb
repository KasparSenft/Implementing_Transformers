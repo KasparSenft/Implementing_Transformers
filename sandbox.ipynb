{
 "cells": [
  {
   "cell_type": "code",
   "execution_count": 26,
   "metadata": {},
   "outputs": [
    {
     "data": {
      "text/plain": [
       "{'en': 'Resumption of the session', 'de': 'Wiederaufnahme der Sitzungsperiode'}"
      ]
     },
     "execution_count": 26,
     "metadata": {},
     "output_type": "execute_result"
    }
   ],
   "source": [
    "import datasets\n",
    "from datasets import load_from_disk\n",
    "\n",
    "ds = load_from_disk('/home/senft/ImpTransf/data/wmt17_de-en_cleaned.hf')\n",
    "ds['train'][0]"
   ]
  },
  {
   "cell_type": "code",
   "execution_count": null,
   "metadata": {},
   "outputs": [],
   "source": [
    "def get_training_corpus(language = 'en'):\n",
    "    dataset = "
   ]
  }
 ],
 "metadata": {
  "kernelspec": {
   "display_name": "imptransf",
   "language": "python",
   "name": "python3"
  },
  "language_info": {
   "codemirror_mode": {
    "name": "ipython",
    "version": 3
   },
   "file_extension": ".py",
   "mimetype": "text/x-python",
   "name": "python",
   "nbconvert_exporter": "python",
   "pygments_lexer": "ipython3",
   "version": "3.8.18"
  }
 },
 "nbformat": 4,
 "nbformat_minor": 2
}
